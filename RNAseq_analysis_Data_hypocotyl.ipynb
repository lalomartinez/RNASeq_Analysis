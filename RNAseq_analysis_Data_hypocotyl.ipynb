{
 "cells": [
  {
   "cell_type": "code",
   "execution_count": 1,
   "id": "a98a4544-167d-41e2-aacb-a2dff1c594e0",
   "metadata": {},
   "outputs": [
    {
     "data": {
      "text/html": [
       "<ol>\n",
       "\t<li>TRUE</li>\n",
       "\t<li>TRUE</li>\n",
       "\t<li>TRUE</li>\n",
       "\t<li>TRUE</li>\n",
       "\t<li>TRUE</li>\n",
       "\t<li>TRUE</li>\n",
       "\t<li>TRUE</li>\n",
       "</ol>\n"
      ],
      "text/latex": [
       "\\begin{enumerate}\n",
       "\\item TRUE\n",
       "\\item TRUE\n",
       "\\item TRUE\n",
       "\\item TRUE\n",
       "\\item TRUE\n",
       "\\item TRUE\n",
       "\\item TRUE\n",
       "\\end{enumerate}\n"
      ],
      "text/markdown": [
       "1. TRUE\n",
       "2. TRUE\n",
       "3. TRUE\n",
       "4. TRUE\n",
       "5. TRUE\n",
       "6. TRUE\n",
       "7. TRUE\n",
       "\n",
       "\n"
      ],
      "text/plain": [
       "[[1]]\n",
       "[1] TRUE\n",
       "\n",
       "[[2]]\n",
       "[1] TRUE\n",
       "\n",
       "[[3]]\n",
       "[1] TRUE\n",
       "\n",
       "[[4]]\n",
       "[1] TRUE\n",
       "\n",
       "[[5]]\n",
       "[1] TRUE\n",
       "\n",
       "[[6]]\n",
       "[1] TRUE\n",
       "\n",
       "[[7]]\n",
       "[1] TRUE\n"
      ]
     },
     "metadata": {},
     "output_type": "display_data"
    }
   ],
   "source": [
    "libraries<-c(\"DESeq2\",\"ggplot2\",\"viridis\",\"RColorBrewer\",\"pheatmap\",\"edgeR\",\"ggfortify\")\n",
    "suppressPackageStartupMessages(lapply(libraries, require, character.only = TRUE))"
   ]
  },
  {
   "cell_type": "code",
   "execution_count": 2,
   "id": "33a4c210-14ec-4c5b-8205-f1967ac4d5e1",
   "metadata": {},
   "outputs": [],
   "source": [
    "countData <- read.csv(\"/media/eduardo/D2/mapping_hisat_RNAseq_Lluteus/Anthracnose_papaer_RNAseq/counts_and_samples/Lluteus_Anthacnose_hypocotyl.txt\",\n",
    "                      sep = '\\t',row.names=1)"
   ]
  },
  {
   "cell_type": "code",
   "execution_count": 3,
   "id": "fbae9c9c-a3b4-43eb-9c2c-51a56fba42c5",
   "metadata": {},
   "outputs": [],
   "source": [
    "samples <- read.delim(\"/media/eduardo/D2/mapping_hisat_RNAseq_Lluteus/Anthracnose_papaer_RNAseq/counts_and_samples/sampledata_hypocotyl.txt\",\n",
    "                      header=T)"
   ]
  },
  {
   "cell_type": "code",
   "execution_count": 4,
   "id": "844e3e0f-b035-4e82-9cd8-41d877b7326c",
   "metadata": {},
   "outputs": [
    {
     "data": {
      "text/html": [
       "<table class=\"dataframe\">\n",
       "<caption>A data.frame: 32 × 7</caption>\n",
       "<thead>\n",
       "\t<tr><th scope=col>sample</th><th scope=col>hpi</th><th scope=col>genotype</th><th scope=col>biosample</th><th scope=col>response</th><th scope=col>tissue</th><th scope=col>treatment</th></tr>\n",
       "\t<tr><th scope=col>&lt;chr&gt;</th><th scope=col>&lt;chr&gt;</th><th scope=col>&lt;chr&gt;</th><th scope=col>&lt;chr&gt;</th><th scope=col>&lt;chr&gt;</th><th scope=col>&lt;chr&gt;</th><th scope=col>&lt;chr&gt;</th></tr>\n",
       "</thead>\n",
       "<tbody>\n",
       "\t<tr><td>C195_60H_1</td><td>060HPI</td><td>C195</td><td>R1</td><td>Susceptible</td><td>hypocotyl</td><td>060HPI_C195</td></tr>\n",
       "\t<tr><td>C195_60H_2</td><td>060HPI</td><td>C195</td><td>R2</td><td>Susceptible</td><td>hypocotyl</td><td>060HPI_C195</td></tr>\n",
       "\t<tr><td>C195_60H_3</td><td>060HPI</td><td>C195</td><td>R3</td><td>Susceptible</td><td>hypocotyl</td><td>060HPI_C195</td></tr>\n",
       "\t<tr><td>C195_60H_4</td><td>060HPI</td><td>C195</td><td>R4</td><td>Susceptible</td><td>hypocotyl</td><td>060HPI_C195</td></tr>\n",
       "\t<tr><td>C195_84H_1</td><td>084HPI</td><td>C195</td><td>R1</td><td>Susceptible</td><td>hypocotyl</td><td>084HPI_C195</td></tr>\n",
       "\t<tr><td>C195_84H_2</td><td>084HPI</td><td>C195</td><td>R2</td><td>Susceptible</td><td>hypocotyl</td><td>084HPI_C195</td></tr>\n",
       "\t<tr><td>C195_84H_3</td><td>084HPI</td><td>C195</td><td>R3</td><td>Susceptible</td><td>hypocotyl</td><td>084HPI_C195</td></tr>\n",
       "\t<tr><td>C195_84H_4</td><td>084HPI</td><td>C195</td><td>R4</td><td>Susceptible</td><td>hypocotyl</td><td>084HPI_C195</td></tr>\n",
       "\t<tr><td>C195_24H_1</td><td>024HPI</td><td>C195</td><td>R1</td><td>Susceptible</td><td>hypocotyl</td><td>024HPI_C195</td></tr>\n",
       "\t<tr><td>C195_24H_2</td><td>024HPI</td><td>C195</td><td>R2</td><td>Susceptible</td><td>hypocotyl</td><td>024HPI_C195</td></tr>\n",
       "\t<tr><td>C195_24H_3</td><td>024HPI</td><td>C195</td><td>R3</td><td>Susceptible</td><td>hypocotyl</td><td>024HPI_C195</td></tr>\n",
       "\t<tr><td>C195_24H_4</td><td>024HPI</td><td>C195</td><td>R4</td><td>Susceptible</td><td>hypocotyl</td><td>024HPI_C195</td></tr>\n",
       "\t<tr><td>C195_C1   </td><td>000HPI</td><td>C195</td><td>R1</td><td>Susceptible</td><td>hypocotyl</td><td>000HPI_C195</td></tr>\n",
       "\t<tr><td>C195_C2   </td><td>000HPI</td><td>C195</td><td>R2</td><td>Susceptible</td><td>hypocotyl</td><td>000HPI_C195</td></tr>\n",
       "\t<tr><td>C195_C3   </td><td>000HPI</td><td>C195</td><td>R3</td><td>Susceptible</td><td>hypocotyl</td><td>000HPI_C195</td></tr>\n",
       "\t<tr><td>C195_C4   </td><td>000HPI</td><td>C195</td><td>R4</td><td>Susceptible</td><td>hypocotyl</td><td>000HPI_C195</td></tr>\n",
       "\t<tr><td>C98_60H_1 </td><td>060HPI</td><td>C98 </td><td>R1</td><td>Resistant  </td><td>hypocotyl</td><td>060HPI_C98 </td></tr>\n",
       "\t<tr><td>C98_60H_2 </td><td>060HPI</td><td>C98 </td><td>R2</td><td>Resistant  </td><td>hypocotyl</td><td>060HPI_C98 </td></tr>\n",
       "\t<tr><td>C98_60H_3 </td><td>060HPI</td><td>C98 </td><td>R3</td><td>Resistant  </td><td>hypocotyl</td><td>060HPI_C98 </td></tr>\n",
       "\t<tr><td>C98_60H_4 </td><td>060HPI</td><td>C98 </td><td>R4</td><td>Resistant  </td><td>hypocotyl</td><td>060HPI_C98 </td></tr>\n",
       "\t<tr><td>C98_84H_1 </td><td>084HPI</td><td>C98 </td><td>R1</td><td>Resistant  </td><td>hypocotyl</td><td>084HPI_C98 </td></tr>\n",
       "\t<tr><td>C98_84H_2 </td><td>084HPI</td><td>C98 </td><td>R2</td><td>Resistant  </td><td>hypocotyl</td><td>084HPI_C98 </td></tr>\n",
       "\t<tr><td>C98_84H_3 </td><td>084HPI</td><td>C98 </td><td>R3</td><td>Resistant  </td><td>hypocotyl</td><td>084HPI_C98 </td></tr>\n",
       "\t<tr><td>C98_84H_4 </td><td>084HPI</td><td>C98 </td><td>R4</td><td>Resistant  </td><td>hypocotyl</td><td>084HPI_C98 </td></tr>\n",
       "\t<tr><td>C98_24H_1 </td><td>024HPI</td><td>C98 </td><td>R1</td><td>Resistant  </td><td>hypocotyl</td><td>024HPI_C98 </td></tr>\n",
       "\t<tr><td>C98_24H_2 </td><td>024HPI</td><td>C98 </td><td>R2</td><td>Resistant  </td><td>hypocotyl</td><td>024HPI_C98 </td></tr>\n",
       "\t<tr><td>C98_24H_3 </td><td>024HPI</td><td>C98 </td><td>R3</td><td>Resistant  </td><td>hypocotyl</td><td>024HPI_C98 </td></tr>\n",
       "\t<tr><td>C98_24H_4 </td><td>024HPI</td><td>C98 </td><td>R4</td><td>Resistant  </td><td>hypocotyl</td><td>024HPI_C98 </td></tr>\n",
       "\t<tr><td>C98_C1    </td><td>000HPI</td><td>C98 </td><td>R1</td><td>Resistant  </td><td>hypocotyl</td><td>000HPI_C98 </td></tr>\n",
       "\t<tr><td>C98_C2    </td><td>000HPI</td><td>C98 </td><td>R2</td><td>Resistant  </td><td>hypocotyl</td><td>000HPI_C98 </td></tr>\n",
       "\t<tr><td>C98_C3    </td><td>000HPI</td><td>C98 </td><td>R3</td><td>Resistant  </td><td>hypocotyl</td><td>000HPI_C98 </td></tr>\n",
       "\t<tr><td>C98_C4    </td><td>000HPI</td><td>C98 </td><td>R4</td><td>Resistant  </td><td>hypocotyl</td><td>000HPI_C98 </td></tr>\n",
       "</tbody>\n",
       "</table>\n"
      ],
      "text/latex": [
       "A data.frame: 32 × 7\n",
       "\\begin{tabular}{lllllll}\n",
       " sample & hpi & genotype & biosample & response & tissue & treatment\\\\\n",
       " <chr> & <chr> & <chr> & <chr> & <chr> & <chr> & <chr>\\\\\n",
       "\\hline\n",
       "\t C195\\_60H\\_1 & 060HPI & C195 & R1 & Susceptible & hypocotyl & 060HPI\\_C195\\\\\n",
       "\t C195\\_60H\\_2 & 060HPI & C195 & R2 & Susceptible & hypocotyl & 060HPI\\_C195\\\\\n",
       "\t C195\\_60H\\_3 & 060HPI & C195 & R3 & Susceptible & hypocotyl & 060HPI\\_C195\\\\\n",
       "\t C195\\_60H\\_4 & 060HPI & C195 & R4 & Susceptible & hypocotyl & 060HPI\\_C195\\\\\n",
       "\t C195\\_84H\\_1 & 084HPI & C195 & R1 & Susceptible & hypocotyl & 084HPI\\_C195\\\\\n",
       "\t C195\\_84H\\_2 & 084HPI & C195 & R2 & Susceptible & hypocotyl & 084HPI\\_C195\\\\\n",
       "\t C195\\_84H\\_3 & 084HPI & C195 & R3 & Susceptible & hypocotyl & 084HPI\\_C195\\\\\n",
       "\t C195\\_84H\\_4 & 084HPI & C195 & R4 & Susceptible & hypocotyl & 084HPI\\_C195\\\\\n",
       "\t C195\\_24H\\_1 & 024HPI & C195 & R1 & Susceptible & hypocotyl & 024HPI\\_C195\\\\\n",
       "\t C195\\_24H\\_2 & 024HPI & C195 & R2 & Susceptible & hypocotyl & 024HPI\\_C195\\\\\n",
       "\t C195\\_24H\\_3 & 024HPI & C195 & R3 & Susceptible & hypocotyl & 024HPI\\_C195\\\\\n",
       "\t C195\\_24H\\_4 & 024HPI & C195 & R4 & Susceptible & hypocotyl & 024HPI\\_C195\\\\\n",
       "\t C195\\_C1    & 000HPI & C195 & R1 & Susceptible & hypocotyl & 000HPI\\_C195\\\\\n",
       "\t C195\\_C2    & 000HPI & C195 & R2 & Susceptible & hypocotyl & 000HPI\\_C195\\\\\n",
       "\t C195\\_C3    & 000HPI & C195 & R3 & Susceptible & hypocotyl & 000HPI\\_C195\\\\\n",
       "\t C195\\_C4    & 000HPI & C195 & R4 & Susceptible & hypocotyl & 000HPI\\_C195\\\\\n",
       "\t C98\\_60H\\_1  & 060HPI & C98  & R1 & Resistant   & hypocotyl & 060HPI\\_C98 \\\\\n",
       "\t C98\\_60H\\_2  & 060HPI & C98  & R2 & Resistant   & hypocotyl & 060HPI\\_C98 \\\\\n",
       "\t C98\\_60H\\_3  & 060HPI & C98  & R3 & Resistant   & hypocotyl & 060HPI\\_C98 \\\\\n",
       "\t C98\\_60H\\_4  & 060HPI & C98  & R4 & Resistant   & hypocotyl & 060HPI\\_C98 \\\\\n",
       "\t C98\\_84H\\_1  & 084HPI & C98  & R1 & Resistant   & hypocotyl & 084HPI\\_C98 \\\\\n",
       "\t C98\\_84H\\_2  & 084HPI & C98  & R2 & Resistant   & hypocotyl & 084HPI\\_C98 \\\\\n",
       "\t C98\\_84H\\_3  & 084HPI & C98  & R3 & Resistant   & hypocotyl & 084HPI\\_C98 \\\\\n",
       "\t C98\\_84H\\_4  & 084HPI & C98  & R4 & Resistant   & hypocotyl & 084HPI\\_C98 \\\\\n",
       "\t C98\\_24H\\_1  & 024HPI & C98  & R1 & Resistant   & hypocotyl & 024HPI\\_C98 \\\\\n",
       "\t C98\\_24H\\_2  & 024HPI & C98  & R2 & Resistant   & hypocotyl & 024HPI\\_C98 \\\\\n",
       "\t C98\\_24H\\_3  & 024HPI & C98  & R3 & Resistant   & hypocotyl & 024HPI\\_C98 \\\\\n",
       "\t C98\\_24H\\_4  & 024HPI & C98  & R4 & Resistant   & hypocotyl & 024HPI\\_C98 \\\\\n",
       "\t C98\\_C1     & 000HPI & C98  & R1 & Resistant   & hypocotyl & 000HPI\\_C98 \\\\\n",
       "\t C98\\_C2     & 000HPI & C98  & R2 & Resistant   & hypocotyl & 000HPI\\_C98 \\\\\n",
       "\t C98\\_C3     & 000HPI & C98  & R3 & Resistant   & hypocotyl & 000HPI\\_C98 \\\\\n",
       "\t C98\\_C4     & 000HPI & C98  & R4 & Resistant   & hypocotyl & 000HPI\\_C98 \\\\\n",
       "\\end{tabular}\n"
      ],
      "text/markdown": [
       "\n",
       "A data.frame: 32 × 7\n",
       "\n",
       "| sample &lt;chr&gt; | hpi &lt;chr&gt; | genotype &lt;chr&gt; | biosample &lt;chr&gt; | response &lt;chr&gt; | tissue &lt;chr&gt; | treatment &lt;chr&gt; |\n",
       "|---|---|---|---|---|---|---|\n",
       "| C195_60H_1 | 060HPI | C195 | R1 | Susceptible | hypocotyl | 060HPI_C195 |\n",
       "| C195_60H_2 | 060HPI | C195 | R2 | Susceptible | hypocotyl | 060HPI_C195 |\n",
       "| C195_60H_3 | 060HPI | C195 | R3 | Susceptible | hypocotyl | 060HPI_C195 |\n",
       "| C195_60H_4 | 060HPI | C195 | R4 | Susceptible | hypocotyl | 060HPI_C195 |\n",
       "| C195_84H_1 | 084HPI | C195 | R1 | Susceptible | hypocotyl | 084HPI_C195 |\n",
       "| C195_84H_2 | 084HPI | C195 | R2 | Susceptible | hypocotyl | 084HPI_C195 |\n",
       "| C195_84H_3 | 084HPI | C195 | R3 | Susceptible | hypocotyl | 084HPI_C195 |\n",
       "| C195_84H_4 | 084HPI | C195 | R4 | Susceptible | hypocotyl | 084HPI_C195 |\n",
       "| C195_24H_1 | 024HPI | C195 | R1 | Susceptible | hypocotyl | 024HPI_C195 |\n",
       "| C195_24H_2 | 024HPI | C195 | R2 | Susceptible | hypocotyl | 024HPI_C195 |\n",
       "| C195_24H_3 | 024HPI | C195 | R3 | Susceptible | hypocotyl | 024HPI_C195 |\n",
       "| C195_24H_4 | 024HPI | C195 | R4 | Susceptible | hypocotyl | 024HPI_C195 |\n",
       "| C195_C1    | 000HPI | C195 | R1 | Susceptible | hypocotyl | 000HPI_C195 |\n",
       "| C195_C2    | 000HPI | C195 | R2 | Susceptible | hypocotyl | 000HPI_C195 |\n",
       "| C195_C3    | 000HPI | C195 | R3 | Susceptible | hypocotyl | 000HPI_C195 |\n",
       "| C195_C4    | 000HPI | C195 | R4 | Susceptible | hypocotyl | 000HPI_C195 |\n",
       "| C98_60H_1  | 060HPI | C98  | R1 | Resistant   | hypocotyl | 060HPI_C98  |\n",
       "| C98_60H_2  | 060HPI | C98  | R2 | Resistant   | hypocotyl | 060HPI_C98  |\n",
       "| C98_60H_3  | 060HPI | C98  | R3 | Resistant   | hypocotyl | 060HPI_C98  |\n",
       "| C98_60H_4  | 060HPI | C98  | R4 | Resistant   | hypocotyl | 060HPI_C98  |\n",
       "| C98_84H_1  | 084HPI | C98  | R1 | Resistant   | hypocotyl | 084HPI_C98  |\n",
       "| C98_84H_2  | 084HPI | C98  | R2 | Resistant   | hypocotyl | 084HPI_C98  |\n",
       "| C98_84H_3  | 084HPI | C98  | R3 | Resistant   | hypocotyl | 084HPI_C98  |\n",
       "| C98_84H_4  | 084HPI | C98  | R4 | Resistant   | hypocotyl | 084HPI_C98  |\n",
       "| C98_24H_1  | 024HPI | C98  | R1 | Resistant   | hypocotyl | 024HPI_C98  |\n",
       "| C98_24H_2  | 024HPI | C98  | R2 | Resistant   | hypocotyl | 024HPI_C98  |\n",
       "| C98_24H_3  | 024HPI | C98  | R3 | Resistant   | hypocotyl | 024HPI_C98  |\n",
       "| C98_24H_4  | 024HPI | C98  | R4 | Resistant   | hypocotyl | 024HPI_C98  |\n",
       "| C98_C1     | 000HPI | C98  | R1 | Resistant   | hypocotyl | 000HPI_C98  |\n",
       "| C98_C2     | 000HPI | C98  | R2 | Resistant   | hypocotyl | 000HPI_C98  |\n",
       "| C98_C3     | 000HPI | C98  | R3 | Resistant   | hypocotyl | 000HPI_C98  |\n",
       "| C98_C4     | 000HPI | C98  | R4 | Resistant   | hypocotyl | 000HPI_C98  |\n",
       "\n"
      ],
      "text/plain": [
       "   sample     hpi    genotype biosample response    tissue    treatment  \n",
       "1  C195_60H_1 060HPI C195     R1        Susceptible hypocotyl 060HPI_C195\n",
       "2  C195_60H_2 060HPI C195     R2        Susceptible hypocotyl 060HPI_C195\n",
       "3  C195_60H_3 060HPI C195     R3        Susceptible hypocotyl 060HPI_C195\n",
       "4  C195_60H_4 060HPI C195     R4        Susceptible hypocotyl 060HPI_C195\n",
       "5  C195_84H_1 084HPI C195     R1        Susceptible hypocotyl 084HPI_C195\n",
       "6  C195_84H_2 084HPI C195     R2        Susceptible hypocotyl 084HPI_C195\n",
       "7  C195_84H_3 084HPI C195     R3        Susceptible hypocotyl 084HPI_C195\n",
       "8  C195_84H_4 084HPI C195     R4        Susceptible hypocotyl 084HPI_C195\n",
       "9  C195_24H_1 024HPI C195     R1        Susceptible hypocotyl 024HPI_C195\n",
       "10 C195_24H_2 024HPI C195     R2        Susceptible hypocotyl 024HPI_C195\n",
       "11 C195_24H_3 024HPI C195     R3        Susceptible hypocotyl 024HPI_C195\n",
       "12 C195_24H_4 024HPI C195     R4        Susceptible hypocotyl 024HPI_C195\n",
       "13 C195_C1    000HPI C195     R1        Susceptible hypocotyl 000HPI_C195\n",
       "14 C195_C2    000HPI C195     R2        Susceptible hypocotyl 000HPI_C195\n",
       "15 C195_C3    000HPI C195     R3        Susceptible hypocotyl 000HPI_C195\n",
       "16 C195_C4    000HPI C195     R4        Susceptible hypocotyl 000HPI_C195\n",
       "17 C98_60H_1  060HPI C98      R1        Resistant   hypocotyl 060HPI_C98 \n",
       "18 C98_60H_2  060HPI C98      R2        Resistant   hypocotyl 060HPI_C98 \n",
       "19 C98_60H_3  060HPI C98      R3        Resistant   hypocotyl 060HPI_C98 \n",
       "20 C98_60H_4  060HPI C98      R4        Resistant   hypocotyl 060HPI_C98 \n",
       "21 C98_84H_1  084HPI C98      R1        Resistant   hypocotyl 084HPI_C98 \n",
       "22 C98_84H_2  084HPI C98      R2        Resistant   hypocotyl 084HPI_C98 \n",
       "23 C98_84H_3  084HPI C98      R3        Resistant   hypocotyl 084HPI_C98 \n",
       "24 C98_84H_4  084HPI C98      R4        Resistant   hypocotyl 084HPI_C98 \n",
       "25 C98_24H_1  024HPI C98      R1        Resistant   hypocotyl 024HPI_C98 \n",
       "26 C98_24H_2  024HPI C98      R2        Resistant   hypocotyl 024HPI_C98 \n",
       "27 C98_24H_3  024HPI C98      R3        Resistant   hypocotyl 024HPI_C98 \n",
       "28 C98_24H_4  024HPI C98      R4        Resistant   hypocotyl 024HPI_C98 \n",
       "29 C98_C1     000HPI C98      R1        Resistant   hypocotyl 000HPI_C98 \n",
       "30 C98_C2     000HPI C98      R2        Resistant   hypocotyl 000HPI_C98 \n",
       "31 C98_C3     000HPI C98      R3        Resistant   hypocotyl 000HPI_C98 \n",
       "32 C98_C4     000HPI C98      R4        Resistant   hypocotyl 000HPI_C98 "
      ]
     },
     "metadata": {},
     "output_type": "display_data"
    }
   ],
   "source": [
    "samples"
   ]
  },
  {
   "cell_type": "code",
   "execution_count": 5,
   "id": "a9ebfb8e-ee03-4317-99f2-843ea45ee213",
   "metadata": {},
   "outputs": [],
   "source": [
    "countData[,1:5] <- NULL"
   ]
  },
  {
   "cell_type": "code",
   "execution_count": 6,
   "id": "5d438b9a-b859-4b3c-b2b2-a2dd470849b5",
   "metadata": {},
   "outputs": [
    {
     "name": "stderr",
     "output_type": "stream",
     "text": [
      "Warning message in DESeqDataSet(se, design = design, ignoreRank):\n",
      "“some variables in design formula are characters, converting to factors”\n"
     ]
    }
   ],
   "source": [
    "dds <- DESeqDataSetFromMatrix(countData=countData, \n",
    "                              colData=samples, \n",
    "                              design= ~ genotype  + hpi + hpi:genotype)"
   ]
  },
  {
   "cell_type": "code",
   "execution_count": 7,
   "id": "51098d26-6c9c-426e-9c87-0a7145eacf38",
   "metadata": {},
   "outputs": [
    {
     "data": {
      "text/plain": [
       "class: DESeqDataSet \n",
       "dim: 36885 32 \n",
       "metadata(1): version\n",
       "assays(1): counts\n",
       "rownames(36885): Llu36397 Llu36588 ... Llu25810 Llu25811\n",
       "rowData names(0):\n",
       "colnames(32): C195_24H_1 C195_24H_2 ... C98.C3 C98.C4\n",
       "colData names(7): sample hpi ... tissue treatment"
      ]
     },
     "metadata": {},
     "output_type": "display_data"
    }
   ],
   "source": [
    "dds"
   ]
  },
  {
   "cell_type": "code",
   "execution_count": 8,
   "id": "2b4e45c4-3fae-48a3-a7ac-a796423007cb",
   "metadata": {},
   "outputs": [],
   "source": [
    "dds$genotype<-as.factor(dds$genotype)\n",
    "dds$hpi<-as.factor(dds$hpi)\n",
    "dds$tissue<-as.factor(dds$tissue)"
   ]
  },
  {
   "cell_type": "code",
   "execution_count": 9,
   "id": "db1c31b5-4c67-4dd4-9491-ad080bea3451",
   "metadata": {},
   "outputs": [],
   "source": [
    "dds$group <- factor(paste0(dds$hpi, dds$genotype,dds$tissue))"
   ]
  },
  {
   "cell_type": "code",
   "execution_count": 10,
   "id": "9ecb4bda-73dc-418d-b4c4-05457877477e",
   "metadata": {},
   "outputs": [],
   "source": [
    "design(dds) <- ~ group"
   ]
  },
  {
   "cell_type": "code",
   "execution_count": 11,
   "id": "54a0a0f4-80f3-444a-8417-c129c02bd7e6",
   "metadata": {},
   "outputs": [
    {
     "name": "stderr",
     "output_type": "stream",
     "text": [
      "estimating size factors\n",
      "\n",
      "estimating dispersions\n",
      "\n",
      "gene-wise dispersion estimates: 30 workers\n",
      "\n",
      "mean-dispersion relationship\n",
      "\n",
      "final dispersion estimates, fitting model and testing: 30 workers\n",
      "\n"
     ]
    }
   ],
   "source": [
    "dds <- DESeq(dds,parallel = TRUE)"
   ]
  },
  {
   "cell_type": "code",
   "execution_count": 12,
   "id": "998fd657-9d7b-48cb-8d9e-24e4a2698515",
   "metadata": {},
   "outputs": [],
   "source": [
    "res<-results(dds, cooksCutoff=FALSE, independentFiltering=FALSE)"
   ]
  },
  {
   "cell_type": "code",
   "execution_count": 13,
   "id": "d4373ad7-b3ef-461b-8ca5-68464ba37da0",
   "metadata": {},
   "outputs": [],
   "source": [
    "normcounts<-as.data.frame(counts(dds,normalized =TRUE))"
   ]
  },
  {
   "cell_type": "code",
   "execution_count": 14,
   "id": "7e5d4c9e-d54b-49b5-ae55-a77e89f27525",
   "metadata": {},
   "outputs": [],
   "source": [
    "vsd <- vst(dds, blind = FALSE)"
   ]
  },
  {
   "cell_type": "code",
   "execution_count": 15,
   "id": "d1975315-a857-4569-a3d2-9d1d427d4771",
   "metadata": {},
   "outputs": [
    {
     "name": "stderr",
     "output_type": "stream",
     "text": [
      "using ntop=500 top features by variance\n",
      "\n"
     ]
    },
    {
     "data": {
      "image/png": "[encoded data removed]",
      "text/plain": [
       "plot without title"
      ]
     },
     "metadata": {
      "image/png": {
       "height": 420,
       "width": 420
      }
     },
     "output_type": "display_data"
    }
   ],
   "source": [
    "pcaData<-plotPCA(vsd, intgroup=c(\"response\", \"hpi\",\"tissue\"), returnData=TRUE)\n",
    "percentVar <- round(100 * attr(pcaData, \"percentVar\"))\n",
    "pcaD<-ggplot(pcaData, aes(PC1, PC2, color=hpi, shape=response,linetype=tissue)) +\n",
    "  geom_point(size=3)  +\n",
    "  guides(col=guide_legend(\"Hours post infection\"),\n",
    "         shape=guide_legend(\"Genotype\"))+\n",
    "  xlab(paste0(\"PC1: \",percentVar[1],\"% variance\")) +\n",
    "  ylab(paste0(\"PC2: \",percentVar[2],\"% variance\")) + \n",
    "  scale_colour_viridis_d(option = \"C\",labels=c(\"000HPI\" = \"non-inoculated\", \n",
    "                                              \"024HPI\" = \"24 hpi\",\n",
    "                                              \"060HPI\" = \"60 hpi\", \n",
    "                                              \"084HPI\" = \"84 hpi\"))+\n",
    "  coord_fixed()+\n",
    "  theme_bw()\n",
    "pcaD"
   ]
  },
  {
   "cell_type": "code",
   "execution_count": 16,
   "id": "6ced4e80-d359-4d96-91b7-98db45f63900",
   "metadata": {},
   "outputs": [],
   "source": [
    "ggsave(\"/media/eduardo/D2/mapping_hisat_RNAseq_Lluteus/Anthracnose_papaer_RNAseq/deseq_outputs/plots/PCAdeseq_hypcotyl.pdf\",\n",
    "       pcaD, device=\"pdf\",dpi = 300,\n",
    "       width = 14.85,\n",
    "       height = 18,\n",
    "       units = \"cm\")\n",
    "\n",
    "ggsave(\"/media/eduardo/D2/mapping_hisat_RNAseq_Lluteus/Anthracnose_papaer_RNAseq/deseq_outputs/plots/PCAdeseq_hypocotyl.png\",\n",
    "       pcaD, device=\"png\",dpi = 300,\n",
    "       width = 14.85,\n",
    "       height = 18,\n",
    "       units = \"cm\")\n",
    "\n",
    "ggsave(\"/media/eduardo/D2/mapping_hisat_RNAseq_Lluteus/Anthracnose_papaer_RNAseq/deseq_outputs/plots/PCAdeseq_hypocotyl.tiff\",\n",
    "       pcaD, device=\"tiff\",dpi = 300,\n",
    "       width = 14.85,\n",
    "       height = 18,\n",
    "       units = \"cm\")"
   ]
  },
  {
   "cell_type": "code",
   "execution_count": 17,
   "id": "3190266e-3d06-4216-a4b8-4816e89da7b9",
   "metadata": {},
   "outputs": [],
   "source": [
    " rld_mat <- assay(vsd)"
   ]
  },
  {
   "cell_type": "code",
   "execution_count": 18,
   "id": "08c2842e-b36c-4d56-8453-ab7cac2598ca",
   "metadata": {},
   "outputs": [],
   "source": [
    "rld_cor <- cor(rld_mat)    ## cor() is a base R function"
   ]
  },
  {
   "cell_type": "code",
   "execution_count": 19,
   "id": "c33eb585-7019-45e0-a0f5-a0ad210bf6e3",
   "metadata": {},
   "outputs": [],
   "source": [
    "samples_column<-samples[,c(1,6)]\n",
    "samples_column$matrix<- rownames(rld_cor)\n",
    "rownames(samples_column)<-samples_column$matrix\n",
    "samples_column$sample<-NULL\n",
    "samples_column$matrix<-NULL"
   ]
  },
  {
   "cell_type": "code",
   "execution_count": 20,
   "id": "677a287b-ee11-440e-8bcf-c044603a9673",
   "metadata": {},
   "outputs": [],
   "source": [
    "samples_row<-read.delim(\"/media/eduardo/D2/mapping_hisat_RNAseq_Lluteus/Anthracnose_papaer_RNAseq/counts_and_samples/row_anntation_heatmap_hypocotyl.txt\",row.names = 1)"
   ]
  },
  {
   "cell_type": "code",
   "execution_count": 21,
   "id": "f379e25d-ddfb-4fff-bb2f-995585086f99",
   "metadata": {},
   "outputs": [],
   "source": [
    "my_colour = list( \n",
    "    Response = c(Resistant = \"#762a83\", Susceptible = \"#1b7837\"),\n",
    "    HPI= c(`24 hpi` =\"#f0f921\",\n",
    "           `60 hpi` =\"#ed7953\",\n",
    "           `84 hpi` =\"#9c179e\",\n",
    "           `non infected`=\"#0d0887\")    \n",
    ")"
   ]
  },
  {
   "cell_type": "code",
   "execution_count": 22,
   "id": "25a7dd00-b468-47c4-854f-85db5dc64530",
   "metadata": {},
   "outputs": [
    {
     "data": {
      "image/png": "[encoded data removed]",
      "text/plain": [
       "plot without title"
      ]
     },
     "metadata": {
      "image/png": {
       "height": 420,
       "width": 420
      }
     },
     "output_type": "display_data"
    }
   ],
   "source": [
    "distSamples<-pheatmap(rld_cor,\n",
    "        color = hcl.colors(50, \"RdYlBu\",rev = TRUE),\n",
    "        #cutree_rows = 2,\n",
    "        #cutree_cols = 2,\n",
    "        annotation_colors = my_colour,\n",
    "        #annotation_col =samples_column,\n",
    "        annotation_row = samples_row,\n",
    "        cluster_rows = T, \n",
    "        cluster_cols = T, # set to FALSE if you want to remove the dendograms\n",
    "        clustering_distance_cols = 'euclidean',\n",
    "        clustering_distance_rows = 'euclidean',\n",
    "        clustering_method = 'complete',\n",
    "        annotation_names_row = F, \n",
    "        annotation_names_col = F,\n",
    "        show_colnames = F,\n",
    "        show_rownames = F)"
   ]
  },
  {
   "cell_type": "code",
   "execution_count": 23,
   "id": "beb8354d-b4fb-4747-949a-5f5ee14126e7",
   "metadata": {},
   "outputs": [],
   "source": [
    "save_pheatmap <- function(x, filename, width=10, height=10, res=300) {\n",
    "   stopifnot(!missing(x))\n",
    "   stopifnot(!missing(filename))\n",
    "   png(filename,width = width, height=height,res = res,units = \"in\")\n",
    "   grid::grid.newpage()\n",
    "   grid::grid.draw(x$gtable)\n",
    "   dev.off()\n",
    "}\n",
    "\n",
    "save_pheatmap_pdf <- function(x, filename, width=10, height=10) {\n",
    "   stopifnot(!missing(x))\n",
    "   stopifnot(!missing(filename))\n",
    "   pdf(filename,width = width, height=height)\n",
    "   grid::grid.newpage()\n",
    "   grid::grid.draw(x$gtable)\n",
    "   dev.off()\n",
    "}\n",
    "\n",
    "save_pheatmap_tiff <- function(x, filename, width=10, height=10) {\n",
    "   stopifnot(!missing(x))\n",
    "   stopifnot(!missing(filename))\n",
    "   tiff(filename,width = width, height=height,res = 300,units = \"in\")\n",
    "   grid::grid.newpage()\n",
    "   grid::grid.draw(x$gtable)\n",
    "   dev.off()\n",
    "}"
   ]
  },
  {
   "cell_type": "code",
   "execution_count": 24,
   "id": "708ba13a-a2c3-4bed-aa10-017fa4f5e4d8",
   "metadata": {},
   "outputs": [
    {
     "data": {
      "text/html": [
       "<strong>png:</strong> 2"
      ],
      "text/latex": [
       "\\textbf{png:} 2"
      ],
      "text/markdown": [
       "**png:** 2"
      ],
      "text/plain": [
       "png \n",
       "  2 "
      ]
     },
     "metadata": {},
     "output_type": "display_data"
    },
    {
     "data": {
      "text/html": [
       "<strong>png:</strong> 2"
      ],
      "text/latex": [
       "\\textbf{png:} 2"
      ],
      "text/markdown": [
       "**png:** 2"
      ],
      "text/plain": [
       "png \n",
       "  2 "
      ]
     },
     "metadata": {},
     "output_type": "display_data"
    },
    {
     "data": {
      "text/html": [
       "<strong>png:</strong> 2"
      ],
      "text/latex": [
       "\\textbf{png:} 2"
      ],
      "text/markdown": [
       "**png:** 2"
      ],
      "text/plain": [
       "png \n",
       "  2 "
      ]
     },
     "metadata": {},
     "output_type": "display_data"
    }
   ],
   "source": [
    "save_pheatmap(distSamples, \n",
    "              filename=\"/media/eduardo/D2/mapping_hisat_RNAseq_Lluteus/Anthracnose_papaer_RNAseq/deseq_outputs/plots/Distsamples_hypocotyl.png\")\n",
    "save_pheatmap_pdf(distSamples, \n",
    "                  filename=\"/media/eduardo/D2/mapping_hisat_RNAseq_Lluteus/Anthracnose_papaer_RNAseq/deseq_outputs/plots/Distsamples_hypocotyl.pdf\")\n",
    "save_pheatmap_tiff(distSamples, \n",
    "                   filename=\"/media/eduardo/D2/mapping_hisat_RNAseq_Lluteus/Anthracnose_papaer_RNAseq/deseq_outputs/plots/Distsamples_hypocotyl.tiff\")"
   ]
  },
  {
   "cell_type": "code",
   "execution_count": 25,
   "id": "793ecb59-679e-4c1b-8b82-116c9632a8d6",
   "metadata": {},
   "outputs": [],
   "source": [
    "#------------Contrast time post inoculation  vs control C98 hypocotyl------------\n",
    "\n",
    "\n",
    "ct_24hpiH<-results(dds, contrast=c(\"group\",\"024HPIC98hypocotyl\",\"000HPIC98hypocotyl\"))\n",
    "ct_24hpiH <- ct_24hpiH[order(ct_24hpiH$padj),]\n",
    "ct_24hpiH_filtered<-ct_24hpiH[which(ct_24hpiH$padj  < 0.01),]\n",
    "DE_list_ct_24hpiH <- subset(ct_24hpiH_filtered, padj < 0.01 & log2FoldChange>= 2 | padj < 0.01 & log2FoldChange <= -2)\n",
    "\n",
    "write.table(as.data.frame(ct_24hpiH), \n",
    "            file=\"/media/eduardo/D2/mapping_hisat_RNAseq_Lluteus/Anthracnose_papaer_RNAseq/deseq_outputs/C98/ctVS24hpiHypocotyl_all.tsv\",\n",
    "            sep = \"\\t\")\n",
    "\n",
    "write.table(as.data.frame(DE_list_ct_24hpiH), \n",
    "              file=\"/media/eduardo/D2/mapping_hisat_RNAseq_Lluteus/Anthracnose_papaer_RNAseq/deseq_outputs/C98/ctVS24hpiHypocotyl_DE.tsv\",\n",
    "              sep = \"\\t\")\n",
    "\n",
    "\n",
    "\n",
    "ct_60hpiH<-results(dds, contrast=c(\"group\",\"060HPIC98hypocotyl\",\"000HPIC98hypocotyl\"))\n",
    "ct_60hpiH <- ct_60hpiH[order(ct_60hpiH$padj),]\n",
    "ct_60hpiH_filtered<-ct_60hpiH[which(ct_60hpiH$padj  < 0.01),]\n",
    "DE_list_ct_60hpiH <- subset(ct_60hpiH_filtered, padj < 0.01 & log2FoldChange>= 2 | padj < 0.01 & log2FoldChange <= -2)\n",
    "\n",
    "\n",
    "write.table(as.data.frame(ct_60hpiH), \n",
    "            file=\"/media/eduardo/D2/mapping_hisat_RNAseq_Lluteus/Anthracnose_papaer_RNAseq/deseq_outputs/C98/ctVS60hpiHypocotyl_all.tsv\",\n",
    "            sep = \"\\t\")\n",
    "\n",
    "write.table(as.data.frame(DE_list_ct_60hpiH), \n",
    "              file=\"/media/eduardo/D2/mapping_hisat_RNAseq_Lluteus/Anthracnose_papaer_RNAseq/deseq_outputs/C98/ctVS60hpiHypocotyl_DE.tsv\",\n",
    "              sep = \"\\t\")\n",
    "\n",
    "\n",
    "ct_84hpiH<-results(dds, contrast=c(\"group\",\"084HPIC98hypocotyl\",\"000HPIC98hypocotyl\"))\n",
    "ct_84hpiH <- ct_84hpiH[order(ct_84hpiH$padj),]\n",
    "ct_84hpiH_filtered<-ct_84hpiH[which(ct_84hpiH$padj  < 0.01),]\n",
    "DE_list_ct_84hpiH <- subset(ct_84hpiH_filtered, padj < 0.01 & log2FoldChange>= 2 | padj < 0.01 & log2FoldChange <= -2)\n",
    "\n",
    "\n",
    "write.table(as.data.frame(ct_84hpiH), \n",
    "            file=\"/media/eduardo/D2/mapping_hisat_RNAseq_Lluteus/Anthracnose_papaer_RNAseq/deseq_outputs/C98/ctVS84hpiHypocotyl_all.tsv\",\n",
    "            sep = \"\\t\")\n",
    "\n",
    "write.table(as.data.frame(DE_list_ct_84hpiH), \n",
    "              file=\"/media/eduardo/D2/mapping_hisat_RNAseq_Lluteus/Anthracnose_papaer_RNAseq/deseq_outputs/C98/ctVS84hpiHypocotyl_DE.tsv\",\n",
    "              sep = \"\\t\")"
   ]
  },
  {
   "cell_type": "code",
   "execution_count": 26,
   "id": "4a097a2d-24ce-4c66-a243-18c2649a9487",
   "metadata": {},
   "outputs": [],
   "source": [
    "#------------Contrast time post inoculation vs control C195 hypocotyl------------\n",
    "\n",
    "ct_24hpiHC195<-results(dds, contrast=c(\"group\",\"024HPIC195hypocotyl\",\"000HPIC195hypocotyl\"))\n",
    "ct_24hpiHC195 <- ct_24hpiHC195[order(ct_24hpiHC195$padj),]\n",
    "ct_24hpiHC195_filtered<-ct_24hpiHC195[which(ct_24hpiHC195$padj  < 0.01),]\n",
    "DE_list_ct_24hpiHC195 <- subset(ct_24hpiHC195_filtered, padj < 0.01 & log2FoldChange>= 2 | padj < 0.01 & log2FoldChange <= -2)\n",
    "\n",
    "\n",
    "write.table(as.data.frame(ct_24hpiHC195), \n",
    "            file=\"/media/eduardo/D2/mapping_hisat_RNAseq_Lluteus/Anthracnose_papaer_RNAseq/deseq_outputs/C195/ctVS24hpiHypocotyl_all.tsv\",\n",
    "            sep = \"\\t\")\n",
    "\n",
    "write.table(as.data.frame(DE_list_ct_24hpiHC195), \n",
    "              file=\"/media/eduardo/D2/mapping_hisat_RNAseq_Lluteus/Anthracnose_papaer_RNAseq/deseq_outputs/C195/ctVS24hpiHypocotyl_DE.tsv\",\n",
    "              sep = \"\\t\")\n",
    "ct_60hpiHC195<-results(dds, contrast=c(\"group\",\"060HPIC195hypocotyl\",\"000HPIC195hypocotyl\"))\n",
    "ct_60hpiHC195 <- ct_60hpiHC195[order(ct_60hpiHC195$padj),]\n",
    "ct_60hpiHC195_filtered<-ct_60hpiHC195[which(ct_60hpiHC195$padj  < 0.01),]\n",
    "DE_list_ct_60hpiHC195 <- subset(ct_60hpiHC195_filtered, padj < 0.01 & log2FoldChange>= 2 | padj < 0.01 & log2FoldChange <= -2)\n",
    "\n",
    "\n",
    "write.table(as.data.frame(ct_60hpiHC195), \n",
    "            file=\"/media/eduardo/D2/mapping_hisat_RNAseq_Lluteus/Anthracnose_papaer_RNAseq/deseq_outputs/C195/ctVS60hpiHypocotyl_all.tsv\",\n",
    "            sep = \"\\t\")\n",
    "\n",
    "write.table(as.data.frame(DE_list_ct_60hpiHC195), \n",
    "              file=\"/media/eduardo/D2/mapping_hisat_RNAseq_Lluteus/Anthracnose_papaer_RNAseq/deseq_outputs/C195/ctVS60hpiHypocotyl_DE.tsv\",\n",
    "              sep = \"\\t\")\n",
    "\n",
    "\n",
    "ct_84hpiHC195<-results(dds, contrast=c(\"group\",\"084HPIC195hypocotyl\",\"000HPIC195hypocotyl\"))\n",
    "ct_84hpiHC195 <- ct_84hpiHC195[order(ct_84hpiHC195$padj),]\n",
    "ct_84hpiHC195_filtered<-ct_84hpiHC195[which(ct_84hpiHC195$padj  < 0.01),]\n",
    "DE_list_ct_84hpiHC195 <- subset(ct_84hpiHC195_filtered, padj < 0.01 & log2FoldChange>= 2 | padj < 0.01 & log2FoldChange <= -2)\n",
    "\n",
    "\n",
    "write.table(as.data.frame(ct_84hpiHC195), \n",
    "            file=\"/media/eduardo/D2/mapping_hisat_RNAseq_Lluteus/Anthracnose_papaer_RNAseq/deseq_outputs/C195/ctVS84hpiHypocotyl_all.tsv\",\n",
    "            sep = \"\\t\")\n",
    "\n",
    "write.table(as.data.frame(DE_list_ct_84hpiHC195), \n",
    "              file=\"/media/eduardo/D2/mapping_hisat_RNAseq_Lluteus/Anthracnose_papaer_RNAseq/deseq_outputs/C195/ctVS84hpihypocotyl_DE.tsv\",\n",
    "              sep = \"\\t\")"
   ]
  }
 ],
 "metadata": {
  "kernelspec": {
   "display_name": "R",
   "language": "R",
   "name": "ir"
  },
  "language_info": {
   "codemirror_mode": "r",
   "file_extension": ".r",
   "mimetype": "text/x-r-source",
   "name": "R",
   "pygments_lexer": "r",
   "version": "4.4.1"
  }
 },
 "nbformat": 4,
 "nbformat_minor": 5
}
